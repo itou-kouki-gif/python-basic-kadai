{
  "cells": [
    {
      "cell_type": "code",
      "source": [
        "class Human:\n",
        "    def __init__(self, name, age):\n",
        "        self.name = name\n",
        "        self.age = age\n",
        "\n",
        "    def check_adult(self):\n",
        "        if self.age >= 20:\n",
        "            print(f\"{self.name} 大人である\")\n",
        "        else:\n",
        "            print(f\"{self.name} 大人でない\")\n",
        "\n",
        "# インスタンスのリスト\n",
        "human_list = [\n",
        "    Human(\"佐藤 太郎\", 30),\n",
        "    Human(\"鈴木 花子\", 22),\n",
        "    Human(\"田中 一郎\", 18)\n",
        "]\n",
        "\n",
        "# 各インスタンスに対して成人かどうかをチェック\n",
        "for human in human_list:\n",
        "    human.check_adult()\n",
        "\n"
      ],
      "metadata": {
        "id": "hF689y9kBfGS",
        "outputId": "5c9b7501-8f02-4339-fa35-248790129c86",
        "colab": {
          "base_uri": "https://localhost:8080/"
        }
      },
      "execution_count": 6,
      "outputs": [
        {
          "output_type": "stream",
          "name": "stdout",
          "text": [
            "佐藤 太郎 大人である\n",
            "鈴木 花子 大人である\n",
            "田中 一郎 大人でない\n"
          ]
        }
      ]
    }
  ],
  "metadata": {
    "colab": {
      "name": "Colab へようこそ",
      "provenance": []
    },
    "kernelspec": {
      "display_name": "Python 3",
      "name": "python3"
    }
  },
  "nbformat": 4,
  "nbformat_minor": 0
}