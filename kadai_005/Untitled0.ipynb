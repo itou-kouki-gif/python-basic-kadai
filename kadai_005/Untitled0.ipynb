{
  "nbformat": 4,
  "nbformat_minor": 0,
  "metadata": {
    "colab": {
      "provenance": []
    },
    "kernelspec": {
      "name": "python3",
      "display_name": "Python 3"
    },
    "language_info": {
      "name": "python"
    }
  },
  "cells": [
    {
      "cell_type": "code",
      "source": [
        "area=(10+20)*5/2\n",
        "print(str(area)+\"cm²\")"
      ],
      "metadata": {
        "id": "BvcPsvlB6oan",
        "colab": {
          "base_uri": "https://localhost:8080/"
        },
        "outputId": "c18f5f69-eb00-40f5-ceff-5eb915ae2b46"
      },
      "execution_count": 10,
      "outputs": [
        {
          "output_type": "stream",
          "name": "stdout",
          "text": [
            "75.0cm²\n"
          ]
        }
      ]
    }
  ]
}