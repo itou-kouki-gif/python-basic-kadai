{
  "cells": [
    {
      "cell_type": "code",
      "source": [
        "class Human:\n",
        " def __init__(self, name, age):\n",
        "        self.name = name\n",
        "        self.age = age\n",
        " def printinfo(self):\n",
        "  print(self.name)\n",
        "  print(self.age)\n",
        "\n",
        "person=Human(\"a\",20)\n",
        "person.printinfo()\n"
      ],
      "metadata": {
        "colab": {
          "base_uri": "https://localhost:8080/"
        },
        "id": "4me0qUxNygic",
        "outputId": "f0743ed7-e289-4797-f62d-e7d1fdf4e547"
      },
      "execution_count": 25,
      "outputs": [
        {
          "output_type": "stream",
          "name": "stdout",
          "text": [
            "a\n",
            "20\n"
          ]
        }
      ]
    },
    {
      "cell_type": "code",
      "source": [
        "\n"
      ],
      "metadata": {
        "id": "McSkt0kJouoq"
      },
      "execution_count": null,
      "outputs": []
    }
  ],
  "metadata": {
    "colab": {
      "name": "Colab へようこそ",
      "provenance": []
    },
    "kernelspec": {
      "display_name": "Python 3",
      "name": "python3"
    }
  },
  "nbformat": 4,
  "nbformat_minor": 0
}