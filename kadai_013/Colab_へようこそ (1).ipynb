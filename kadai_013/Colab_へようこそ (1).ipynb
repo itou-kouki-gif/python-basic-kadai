{
  "cells": [
    {
      "cell_type": "code",
      "source": [
        "\n",
        "def total(syohin, zei):\n",
        "    total_price = syohin + syohin * zei / 100\n",
        "    return total_price\n",
        "\n",
        "print(total(110, 10))\n"
      ],
      "metadata": {
        "colab": {
          "base_uri": "https://localhost:8080/"
        },
        "id": "GSkRi8oJ-5IE",
        "outputId": "1c75a59b-6591-49e0-af47-a84fa64c0c34"
      },
      "execution_count": 7,
      "outputs": [
        {
          "output_type": "stream",
          "name": "stdout",
          "text": [
            "121.0\n"
          ]
        }
      ]
    },
    {
      "cell_type": "code",
      "source": [],
      "metadata": {
        "id": "GFtX9DRWGAyD"
      },
      "execution_count": null,
      "outputs": []
    }
  ],
  "metadata": {
    "colab": {
      "name": "Colab へようこそ",
      "provenance": []
    },
    "kernelspec": {
      "display_name": "Python 3",
      "name": "python3"
    }
  },
  "nbformat": 4,
  "nbformat_minor": 0
}